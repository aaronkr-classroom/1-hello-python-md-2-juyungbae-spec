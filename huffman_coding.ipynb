{
  "cells": [
    {
      "cell_type": "markdown",
      "metadata": {
        "id": "view-in-github",
        "colab_type": "text"
      },
      "source": [
        "<a href=\"https://colab.research.google.com/github/aaronkr-classroom/1-hello-python-md-2-juyungbae-spec/blob/main/huffman_coding.ipynb\" target=\"_parent\"><img src=\"https://colab.research.google.com/assets/colab-badge.svg\" alt=\"Open In Colab\"/></a>"
      ]
    },
    {
      "cell_type": "markdown",
      "id": "0c6d7126",
      "metadata": {
        "id": "0c6d7126"
      },
      "source": [
        "# Huffman Coding Implementation"
      ]
    },
    {
      "cell_type": "code",
      "execution_count": 1,
      "id": "a12cc8d9",
      "metadata": {
        "id": "a12cc8d9"
      },
      "outputs": [],
      "source": [
        "import matplotlib.pyplot as plt\n",
        "from collections import Counter\n",
        "import heapq\n",
        "import warnings\n",
        "warnings.filterwarnings('ignore')"
      ]
    },
    {
      "cell_type": "code",
      "execution_count": 2,
      "id": "b78c3aba",
      "metadata": {
        "colab": {
          "base_uri": "https://localhost:8080/"
        },
        "id": "b78c3aba",
        "outputId": "a2dba893-f559-415b-d674-350166c04000"
      },
      "outputs": [
        {
          "output_type": "stream",
          "name": "stdout",
          "text": [
            "\n",
            "🔵 HUFFMAN CODING\n",
            "Adaptive coding - the practical application of information theory!\n"
          ]
        }
      ],
      "source": [
        "print(\"\\n🔵 HUFFMAN CODING\")\n",
        "print(\"Adaptive coding - the practical application of information theory!\")\n",
        "\n",
        "class Node:\n",
        "    def __init__(self, char, freq):\n",
        "        self.char = char\n",
        "        self.freq = freq\n",
        "        self.left = None\n",
        "        self.right = None\n",
        "\n",
        "    def __lt__(self, other):\n",
        "        return self.freq < other.freq"
      ]
    },
    {
      "cell_type": "code",
      "execution_count": 3,
      "id": "e33d9e4d",
      "metadata": {
        "id": "e33d9e4d"
      },
      "outputs": [],
      "source": [
        "def build_huffman_tree(text):\n",
        "    \"\"\"Build Huffman tree from text\"\"\"\n",
        "    # Count frequencies\n",
        "    freq_count = Counter(text)\n",
        "\n",
        "    # Create priority queue (min-heap)\n",
        "    heap = [Node(char, freq) for char, freq in freq_count.items()]\n",
        "    heapq.heapify(heap)\n",
        "\n",
        "    # Build tree\n",
        "    while len(heap) > 1:\n",
        "        left = heapq.heappop(heap)\n",
        "        right = heapq.heappop(heap)\n",
        "\n",
        "        merged = Node(None, left.freq + right.freq)\n",
        "        merged.left = left\n",
        "        merged.right = right\n",
        "\n",
        "        heapq.heappush(heap, merged)\n",
        "\n",
        "    return heap[0] if heap else None"
      ]
    },
    {
      "cell_type": "code",
      "execution_count": 4,
      "id": "aad8e79f",
      "metadata": {
        "id": "aad8e79f"
      },
      "outputs": [],
      "source": [
        "def generate_huffman_codes(root):\n",
        "    \"\"\"Generate Huffman codes from tree\"\"\"\n",
        "    if not root:\n",
        "        return {}\n",
        "\n",
        "    codes = {}\n",
        "\n",
        "    def generate_codes_helper(node, code):\n",
        "        if node:\n",
        "            if node.char is not None:  # Leaf node\n",
        "                codes[node.char] = code if code else '0'  # Handle single character case\n",
        "            else:\n",
        "                generate_codes_helper(node.left, code + '0')\n",
        "                generate_codes_helper(node.right, code + '1')\n",
        "\n",
        "    generate_codes_helper(root, '')\n",
        "    return codes"
      ]
    },
    {
      "cell_type": "code",
      "execution_count": 8,
      "id": "8d1ab796",
      "metadata": {
        "colab": {
          "base_uri": "https://localhost:8080/"
        },
        "id": "8d1ab796",
        "outputId": "bccbcd42-e991-4a35-c5b3-a4fc57685d0a"
      },
      "outputs": [
        {
          "output_type": "stream",
          "name": "stdout",
          "text": [
            "📝 Original text: '\n",
            "༼ つ ◕_◕ ༽つ ╰(*°▽°*)╯  ¯\\_(ツ)_/¯   ☜(ﾟヮﾟ☜)\n",
            "\n",
            "👁‍🗨🍤\n",
            "\n",
            " I'm not wearing hockey pads. This isn't a car. I'll be standing where l belong. Between you and the peopIe of Gotham. I'm Batman My anger outweights my guilt. Bats frighten me. It's time my enemies shared my dread.\n",
            "\n",
            " Hero can be anyone. Even a man knowing something as simple and reassuring as putting a coat around a young boy shoulders to let him know the world hadn't ended.\n",
            "\n",
            " Bats frighten me. It's time my enemies shared my dread. Swear to me! Someone like you. Someone who'll rattle the cages. Hero can be anyone. Even a man knowing something as simple and reassuring as putting a coat around a young boy shoulders to let him know the world hadn't ended.\n",
            "\n",
            " Swear to me! I'm not wearing hockey pads. Bats frighten me. It's time my enemies shared my dread. Bats frighten me. It's time my enemies shared my dread. I can't do that as Bruce Wayne... as a man. I'm flesh and blood. I can be ignored, destroyed. But as a symbol, I can be incorruptible, I can be everlasting.\n",
            "\n",
            " I'm not wearing hockey pads. This isn't a car. I'll be standing where l belong. Between you and the peopIe of Gotham. I'm Batman My anger outweights my guilt. Bats frighten me. It's time my enemies shared my dread.\n",
            "'\n",
            "📏 Length: 1242 characters\n"
          ]
        }
      ],
      "source": [
        "def huffman_encode(text, codes):\n",
        "    \"\"\"Encode text using Huffman codes\"\"\"\n",
        "    return ''.join(codes[char] for char in text)\n",
        "\n",
        "def calculate_compression_ratio(original_text, encoded_bits):\n",
        "    \"\"\"Calculate compression ratio\"\"\"\n",
        "    original_bits = len(original_text) * 8  # 8 bits per character in ASCII\n",
        "    compressed_bits = len(encoded_bits)\n",
        "    return compressed_bits / original_bits\n",
        "\n",
        "# Demonstrate Huffman coding\n",
        "# short_text = \"hello world! this is a test message for huffman coding.\"\n",
        "short_text = \"\"\"\n",
        "༼ つ ◕_◕ ༽つ ╰(*°▽°*)╯  ¯\\_(ツ)_/¯   ☜(ﾟヮﾟ☜)\n",
        "\n",
        "👁‍🗨🍤\n",
        "\n",
        " I'm not wearing hockey pads. This isn't a car. I'll be standing where l belong. Between you and the peopIe of Gotham. I'm Batman My anger outweights my guilt. Bats frighten me. It's time my enemies shared my dread.\n",
        "\n",
        " Hero can be anyone. Even a man knowing something as simple and reassuring as putting a coat around a young boy shoulders to let him know the world hadn't ended.\n",
        "\n",
        " Bats frighten me. It's time my enemies shared my dread. Swear to me! Someone like you. Someone who'll rattle the cages. Hero can be anyone. Even a man knowing something as simple and reassuring as putting a coat around a young boy shoulders to let him know the world hadn't ended.\n",
        "\n",
        " Swear to me! I'm not wearing hockey pads. Bats frighten me. It's time my enemies shared my dread. Bats frighten me. It's time my enemies shared my dread. I can't do that as Bruce Wayne... as a man. I'm flesh and blood. I can be ignored, destroyed. But as a symbol, I can be incorruptible, I can be everlasting.\n",
        "\n",
        " I'm not wearing hockey pads. This isn't a car. I'll be standing where l belong. Between you and the peopIe of Gotham. I'm Batman My anger outweights my guilt. Bats frighten me. It's time my enemies shared my dread.\n",
        "\"\"\"\n",
        "print(f\"📝 Original text: '{short_text}'\")\n",
        "print(f\"📏 Length: {len(short_text)} characters\")\n",
        "\n",
        "# Build Huffman tree and generate codes\n",
        "root = build_huffman_tree(short_text)\n",
        "huffman_codes = generate_huffman_codes(root)"
      ]
    },
    {
      "cell_type": "code",
      "execution_count": 15,
      "id": "be490359",
      "metadata": {
        "colab": {
          "base_uri": "https://localhost:8080/"
        },
        "id": "be490359",
        "outputId": "11ee686a-753d-4544-a1a5-a4ea4a57c3d5"
      },
      "outputs": [
        {
          "output_type": "stream",
          "name": "stdout",
          "text": [
            "\n",
            "🔤 Huffman Codes (sample):\n",
            "   'e': 001\n",
            "   'SPACE': 111\n",
            "   'o': 0001\n",
            "   't': 0110\n",
            "   'n': 1000\n",
            "   'a': 1010\n",
            "   'l': 00000\n",
            "   'y': 01000\n",
            "   'g': 01001\n",
            "   '.': 01110\n",
            "   'h': 10010\n",
            "   'd': 10110\n",
            "   'r': 10111\n",
            "   'i': 11000\n",
            "   'm': 11010\n",
            "   's': 11011\n",
            "   'b': 000010\n",
            "   'c': 010100\n",
            "   'w': 011110\n",
            "   ''': 011111\n",
            "   'I': 100110\n",
            "   'u': 100111\n",
            "   'f': 0000111\n",
            "   'k': 0101010\n",
            "   'B': 1100100\n",
            "   'p': 1100101\n",
            "   '\n",
            "': 1100111\n",
            "   ')': 00001100\n",
            "   'S': 01011011\n",
            "   '¯': 000011010\n",
            "   '!': 000011011\n",
            "   'H': 010101100\n",
            "   '°': 010101110\n",
            "   '◕': 010101111\n",
            "   'G': 010110100\n",
            "   'E': 010110101\n",
            "   'M': 010111000\n",
            "   'T': 010111001\n",
            "   'ﾟ': 010111010\n",
            "   '☜': 010111011\n",
            "   'つ': 010111100\n",
            "   '*': 010111111\n",
            "   'v': 110011000\n",
            "   '(': 110011001\n",
            "   ',': 110011010\n",
            "   '_': 110011011\n",
            "   '༼': 0101011010\n",
            "   'ヮ': 0101011011\n",
            "   '▽': 0101100000\n",
            "   '🗨': 0101100001\n",
            "   '╰': 0101100010\n",
            "   '\\': 0101100011\n",
            "   'W': 0101100100\n",
            "   '╯': 0101100101\n",
            "   '༽': 0101100110\n",
            "   '🍤': 0101100111\n",
            "   '‍': 0101111010\n",
            "   '👁': 0101111011\n",
            "   '/': 0101111100\n",
            "   'ツ': 0101111101\n"
          ]
        }
      ],
      "source": [
        "# Show some codes\n",
        "print(\"\\n🔤 Huffman Codes (sample):\")\n",
        "sorted_codes = sorted(huffman_codes.items(), key=lambda x: len(x[1]))\n",
        "for char, code in sorted_codes[:]:  # Show first 10\n",
        "    char_display = char if char != ' ' else 'SPACE'\n",
        "    print(f\"   '{char_display}': {code}\")\n",
        "\n",
        "# Encode the text\n",
        "encoded_text = huffman_encode(short_text, huffman_codes)\n",
        "compression_ratio = calculate_compression_ratio(short_text, encoded_text)"
      ]
    },
    {
      "cell_type": "code",
      "execution_count": 16,
      "id": "357008de",
      "metadata": {
        "colab": {
          "base_uri": "https://localhost:8080/"
        },
        "id": "357008de",
        "outputId": "1ba8dada-0221-47c5-f609-184510e96c9f"
      },
      "outputs": [
        {
          "output_type": "stream",
          "name": "stdout",
          "text": [
            "\n",
            "📊 Compression Results:\n",
            "   • Original size: 9936 bits (1242 chars × 8 bits)\n",
            "   • Compressed size: 5692 bits\n",
            "   • Compression ratio: 0.573\n",
            "   • Space saved: 42.7%\n"
          ]
        }
      ],
      "source": [
        "print(f\"\\n📊 Compression Results:\")\n",
        "print(f\"   • Original size: {len(short_text) * 8} bits ({len(short_text)} chars × 8 bits)\")\n",
        "print(f\"   • Compressed size: {len(encoded_text)} bits\")\n",
        "print(f\"   • Compression ratio: {compression_ratio:.3f}\")\n",
        "print(f\"   • Space saved: {(1-compression_ratio)*100:.1f}%\")"
      ]
    },
    {
      "cell_type": "code",
      "execution_count": 17,
      "id": "b4f5a206",
      "metadata": {
        "id": "b4f5a206"
      },
      "outputs": [],
      "source": [
        "# Visualize code lengths\n",
        "char_frequencies = Counter(short_text)\n",
        "code_lengths = [(char, len(huffman_codes[char]), freq)\n",
        "                for char, freq in char_frequencies.most_common()]"
      ]
    },
    {
      "cell_type": "code",
      "execution_count": 18,
      "id": "af2bc317",
      "metadata": {
        "colab": {
          "base_uri": "https://localhost:8080/",
          "height": 490
        },
        "id": "af2bc317",
        "outputId": "0d3172b3-b6fe-4742-dacc-e4e9e43feb81"
      },
      "outputs": [
        {
          "output_type": "display_data",
          "data": {
            "text/plain": [
              "<Figure size 1500x600 with 2 Axes>"
            ],
            "image/png": "[encoded data removed]"
          },
          "metadata": {}
        }
      ],
      "source": [
        "# Create visualization\n",
        "fig, (ax1, ax2) = plt.subplots(1, 2, figsize=(15, 6))\n",
        "\n",
        "# Frequency vs Code Length\n",
        "chars = [c if c != ' ' else 'SP' for c, _, _ in code_lengths[:10]]\n",
        "frequencies = [f for _, _, f in code_lengths[:10]]\n",
        "lengths = [l for _, l, _ in code_lengths[:10]]\n",
        "\n",
        "ax1.scatter(frequencies, lengths, s=100, alpha=0.7)\n",
        "for i, char in enumerate(chars):\n",
        "    ax1.annotate(char, (frequencies[i], lengths[i]),\n",
        "                xytext=(5, 5), textcoords='offset points')\n",
        "ax1.set_xlabel('Character Frequency')\n",
        "ax1.set_ylabel('Huffman Code Length (bits)')\n",
        "ax1.set_title('Frequency vs Code Length')\n",
        "ax1.grid(True, alpha=0.3)\n",
        "\n",
        "# Code length distribution\n",
        "ax2.bar(range(len(chars)), lengths, alpha=0.7)\n",
        "ax2.set_xlabel('Characters (by frequency)')\n",
        "ax2.set_ylabel('Code Length (bits)')\n",
        "ax2.set_title('Huffman Code Lengths')\n",
        "ax2.set_xticks(range(len(chars)))\n",
        "ax2.set_xticklabels(chars, rotation=45)\n",
        "ax2.grid(True, alpha=0.3)\n",
        "\n",
        "plt.tight_layout()\n",
        "plt.show()"
      ]
    },
    {
      "cell_type": "code",
      "execution_count": 19,
      "id": "b8fc05e5",
      "metadata": {
        "colab": {
          "base_uri": "https://localhost:8080/"
        },
        "id": "b8fc05e5",
        "outputId": "c7a9af73-f321-465a-c99a-534363569b96"
      },
      "outputs": [
        {
          "output_type": "stream",
          "name": "stdout",
          "text": [
            "\n",
            "🎓 Huffman Coding Insights:\n",
            "   • Frequent characters get shorter codes\n",
            "   • Rare characters get longer codes\n",
            "   • This minimizes total message length\n",
            "   • Optimal prefix-free coding algorithm\n"
          ]
        }
      ],
      "source": [
        "print(\"\\n🎓 Huffman Coding Insights:\")\n",
        "print(\"   • Frequent characters get shorter codes\")\n",
        "print(\"   • Rare characters get longer codes\")\n",
        "print(\"   • This minimizes total message length\")\n",
        "print(\"   • Optimal prefix-free coding algorithm\")"
      ]
    },
    {
      "cell_type": "code",
      "source": [],
      "metadata": {
        "id": "MDRBQBPAOW1S"
      },
      "id": "MDRBQBPAOW1S",
      "execution_count": null,
      "outputs": []
    }
  ],
  "metadata": {
    "language_info": {
      "name": "python"
    },
    "colab": {
      "provenance": [],
      "include_colab_link": true
    },
    "kernelspec": {
      "name": "python3",
      "display_name": "Python 3"
    }
  },
  "nbformat": 4,
  "nbformat_minor": 5
}